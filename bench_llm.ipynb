{
  "cells": [
    {
      "cell_type": "markdown",
      "metadata": {
        "id": "view-in-github",
        "colab_type": "text"
      },
      "source": [
        "<a href=\"https://colab.research.google.com/github/vin136/llm-infer/blob/main/bench_llm.ipynb\" target=\"_parent\"><img src=\"https://colab.research.google.com/assets/colab-badge.svg\" alt=\"Open In Colab\"/></a>"
      ]
    },
    {
      "cell_type": "code",
      "execution_count": null,
      "metadata": {
        "id": "lBzpg6r81FT6"
      },
      "outputs": [],
      "source": [
        "import pandas as pd\n",
        "import numpy as np"
      ]
    },
    {
      "cell_type": "code",
      "execution_count": null,
      "metadata": {
        "id": "eB4GK2Mf1Inr"
      },
      "outputs": [],
      "source": [
        "import os\n",
        "\n",
        "def get_csv_files_in_folders(base_folder=\".\"):\n",
        "    csv_files = []\n",
        "    # Walk through all directories and subdirectories\n",
        "    for root, dirs, files in os.walk(base_folder):\n",
        "        for file in files:\n",
        "            # Check if the file has a .csv extension\n",
        "            if file.lower().endswith(\".csv\"):\n",
        "                # Construct the full path to the CSV file\n",
        "                csv_files.append(os.path.join(root, file))\n",
        "\n",
        "    return csv_files"
      ]
    },
    {
      "cell_type": "code",
      "execution_count": null,
      "metadata": {
        "id": "SHWgaJ2wKdD2"
      },
      "outputs": [],
      "source": [
        "files = get_csv_files_in_folders()"
      ]
    },
    {
      "cell_type": "code",
      "execution_count": null,
      "metadata": {
        "id": "7oRF2DUXKdD2",
        "outputId": "3f406e98-7a7b-44d3-f84a-847ae279990e"
      },
      "outputs": [
        {
          "data": {
            "text/plain": [
              "['./vllm/bench-vllm.csv',\n",
              " './mlc/bench-mlc-mistral.csv',\n",
              " './mlc/bench-mlc-llama2.csv']"
            ]
          },
          "execution_count": 5,
          "metadata": {},
          "output_type": "execute_result"
        }
      ],
      "source": [
        "files"
      ]
    },
    {
      "cell_type": "code",
      "execution_count": null,
      "metadata": {
        "id": "lsL0pwHbKdD3"
      },
      "outputs": [],
      "source": [
        "dfs = [pd.read_csv(csv_file) for csv_file in files]\n",
        "combined_df = pd.concat(dfs, ignore_index=True)"
      ]
    },
    {
      "cell_type": "code",
      "execution_count": null,
      "metadata": {
        "id": "yrOJzZaJKdD3",
        "outputId": "3daec6f9-9d3c-41a7-8956-85e2768833e1"
      },
      "outputs": [
        {
          "data": {
            "text/html": [
              "<div>\n",
              "<style scoped>\n",
              "    .dataframe tbody tr th:only-of-type {\n",
              "        vertical-align: middle;\n",
              "    }\n",
              "\n",
              "    .dataframe tbody tr th {\n",
              "        vertical-align: top;\n",
              "    }\n",
              "\n",
              "    .dataframe thead th {\n",
              "        text-align: right;\n",
              "    }\n",
              "</style>\n",
              "<table border=\"1\" class=\"dataframe\">\n",
              "  <thead>\n",
              "    <tr style=\"text-align: right;\">\n",
              "      <th></th>\n",
              "      <th>inference_engine</th>\n",
              "      <th>model</th>\n",
              "      <th>time</th>\n",
              "    </tr>\n",
              "  </thead>\n",
              "  <tbody>\n",
              "    <tr>\n",
              "      <th>0</th>\n",
              "      <td>vllm</td>\n",
              "      <td>mistralai/Mistral-7B-Instruct-v0.2</td>\n",
              "      <td>3.494984</td>\n",
              "    </tr>\n",
              "    <tr>\n",
              "      <th>1</th>\n",
              "      <td>vllm</td>\n",
              "      <td>mistralai/Mistral-7B-Instruct-v0.2</td>\n",
              "      <td>3.494304</td>\n",
              "    </tr>\n",
              "    <tr>\n",
              "      <th>2</th>\n",
              "      <td>vllm</td>\n",
              "      <td>mistralai/Mistral-7B-Instruct-v0.2</td>\n",
              "      <td>3.499816</td>\n",
              "    </tr>\n",
              "    <tr>\n",
              "      <th>3</th>\n",
              "      <td>vllm</td>\n",
              "      <td>mistralai/Mistral-7B-Instruct-v0.2</td>\n",
              "      <td>3.495971</td>\n",
              "    </tr>\n",
              "    <tr>\n",
              "      <th>4</th>\n",
              "      <td>vllm</td>\n",
              "      <td>mistralai/Mistral-7B-Instruct-v0.2</td>\n",
              "      <td>3.496787</td>\n",
              "    </tr>\n",
              "    <tr>\n",
              "      <th>5</th>\n",
              "      <td>vllm</td>\n",
              "      <td>mistralai/Mistral-7B-Instruct-v0.2</td>\n",
              "      <td>0.315968</td>\n",
              "    </tr>\n",
              "    <tr>\n",
              "      <th>6</th>\n",
              "      <td>vllm</td>\n",
              "      <td>mistralai/Mistral-7B-Instruct-v0.2</td>\n",
              "      <td>2.306152</td>\n",
              "    </tr>\n",
              "    <tr>\n",
              "      <th>7</th>\n",
              "      <td>vllm</td>\n",
              "      <td>mistralai/Mistral-7B-Instruct-v0.2</td>\n",
              "      <td>2.663163</td>\n",
              "    </tr>\n",
              "    <tr>\n",
              "      <th>8</th>\n",
              "      <td>mlc</td>\n",
              "      <td>Mistral-7B-Instruct-v0.2</td>\n",
              "      <td>1.580195</td>\n",
              "    </tr>\n",
              "    <tr>\n",
              "      <th>9</th>\n",
              "      <td>mlc</td>\n",
              "      <td>Mistral-7B-Instruct-v0.2</td>\n",
              "      <td>1.480922</td>\n",
              "    </tr>\n",
              "    <tr>\n",
              "      <th>10</th>\n",
              "      <td>mlc</td>\n",
              "      <td>Mistral-7B-Instruct-v0.2</td>\n",
              "      <td>1.630431</td>\n",
              "    </tr>\n",
              "    <tr>\n",
              "      <th>11</th>\n",
              "      <td>mlc</td>\n",
              "      <td>Mistral-7B-Instruct-v0.2</td>\n",
              "      <td>0.865275</td>\n",
              "    </tr>\n",
              "    <tr>\n",
              "      <th>12</th>\n",
              "      <td>mlc</td>\n",
              "      <td>Mistral-7B-Instruct-v0.2</td>\n",
              "      <td>1.840082</td>\n",
              "    </tr>\n",
              "    <tr>\n",
              "      <th>13</th>\n",
              "      <td>mlc</td>\n",
              "      <td>Mistral-7B-Instruct-v0.2</td>\n",
              "      <td>0.389172</td>\n",
              "    </tr>\n",
              "    <tr>\n",
              "      <th>14</th>\n",
              "      <td>mlc</td>\n",
              "      <td>Mistral-7B-Instruct-v0.2</td>\n",
              "      <td>1.161004</td>\n",
              "    </tr>\n",
              "    <tr>\n",
              "      <th>15</th>\n",
              "      <td>mlc</td>\n",
              "      <td>Mistral-7B-Instruct-v0.2</td>\n",
              "      <td>2.024654</td>\n",
              "    </tr>\n",
              "    <tr>\n",
              "      <th>16</th>\n",
              "      <td>mlc</td>\n",
              "      <td>meta-llama/Llama-2-7b-chat-hf</td>\n",
              "      <td>1.433109</td>\n",
              "    </tr>\n",
              "    <tr>\n",
              "      <th>17</th>\n",
              "      <td>mlc</td>\n",
              "      <td>meta-llama/Llama-2-7b-chat-hf</td>\n",
              "      <td>1.332555</td>\n",
              "    </tr>\n",
              "    <tr>\n",
              "      <th>18</th>\n",
              "      <td>mlc</td>\n",
              "      <td>meta-llama/Llama-2-7b-chat-hf</td>\n",
              "      <td>1.469752</td>\n",
              "    </tr>\n",
              "    <tr>\n",
              "      <th>19</th>\n",
              "      <td>mlc</td>\n",
              "      <td>meta-llama/Llama-2-7b-chat-hf</td>\n",
              "      <td>1.419914</td>\n",
              "    </tr>\n",
              "    <tr>\n",
              "      <th>20</th>\n",
              "      <td>mlc</td>\n",
              "      <td>meta-llama/Llama-2-7b-chat-hf</td>\n",
              "      <td>1.712001</td>\n",
              "    </tr>\n",
              "    <tr>\n",
              "      <th>21</th>\n",
              "      <td>mlc</td>\n",
              "      <td>meta-llama/Llama-2-7b-chat-hf</td>\n",
              "      <td>0.156689</td>\n",
              "    </tr>\n",
              "    <tr>\n",
              "      <th>22</th>\n",
              "      <td>mlc</td>\n",
              "      <td>meta-llama/Llama-2-7b-chat-hf</td>\n",
              "      <td>0.896812</td>\n",
              "    </tr>\n",
              "    <tr>\n",
              "      <th>23</th>\n",
              "      <td>mlc</td>\n",
              "      <td>meta-llama/Llama-2-7b-chat-hf</td>\n",
              "      <td>1.432776</td>\n",
              "    </tr>\n",
              "  </tbody>\n",
              "</table>\n",
              "</div>"
            ],
            "text/plain": [
              "   inference_engine                               model      time\n",
              "0              vllm  mistralai/Mistral-7B-Instruct-v0.2  3.494984\n",
              "1              vllm  mistralai/Mistral-7B-Instruct-v0.2  3.494304\n",
              "2              vllm  mistralai/Mistral-7B-Instruct-v0.2  3.499816\n",
              "3              vllm  mistralai/Mistral-7B-Instruct-v0.2  3.495971\n",
              "4              vllm  mistralai/Mistral-7B-Instruct-v0.2  3.496787\n",
              "5              vllm  mistralai/Mistral-7B-Instruct-v0.2  0.315968\n",
              "6              vllm  mistralai/Mistral-7B-Instruct-v0.2  2.306152\n",
              "7              vllm  mistralai/Mistral-7B-Instruct-v0.2  2.663163\n",
              "8               mlc            Mistral-7B-Instruct-v0.2  1.580195\n",
              "9               mlc            Mistral-7B-Instruct-v0.2  1.480922\n",
              "10              mlc            Mistral-7B-Instruct-v0.2  1.630431\n",
              "11              mlc            Mistral-7B-Instruct-v0.2  0.865275\n",
              "12              mlc            Mistral-7B-Instruct-v0.2  1.840082\n",
              "13              mlc            Mistral-7B-Instruct-v0.2  0.389172\n",
              "14              mlc            Mistral-7B-Instruct-v0.2  1.161004\n",
              "15              mlc            Mistral-7B-Instruct-v0.2  2.024654\n",
              "16              mlc       meta-llama/Llama-2-7b-chat-hf  1.433109\n",
              "17              mlc       meta-llama/Llama-2-7b-chat-hf  1.332555\n",
              "18              mlc       meta-llama/Llama-2-7b-chat-hf  1.469752\n",
              "19              mlc       meta-llama/Llama-2-7b-chat-hf  1.419914\n",
              "20              mlc       meta-llama/Llama-2-7b-chat-hf  1.712001\n",
              "21              mlc       meta-llama/Llama-2-7b-chat-hf  0.156689\n",
              "22              mlc       meta-llama/Llama-2-7b-chat-hf  0.896812\n",
              "23              mlc       meta-llama/Llama-2-7b-chat-hf  1.432776"
            ]
          },
          "execution_count": 41,
          "metadata": {},
          "output_type": "execute_result"
        }
      ],
      "source": [
        "#let's compare\n",
        "combined_df[['inference_engine','model','time']]"
      ]
    },
    {
      "cell_type": "code",
      "execution_count": null,
      "metadata": {
        "id": "nUv0_CikKdD4"
      },
      "outputs": [],
      "source": [
        "#let's compare vllm vs mlc for mistral\n",
        "vsel = (combined_df['inference_engine'] == 'vllm') & (combined_df['model'].str.startswith('mistral'))\n",
        "df_vllm_mst = combined_df[vsel]\n"
      ]
    },
    {
      "cell_type": "code",
      "execution_count": null,
      "metadata": {
        "id": "yEYHFuSpKdD5"
      },
      "outputs": [],
      "source": [
        "msel = (combined_df['inference_engine'] == 'mlc') & (combined_df['model'].str.startswith('Mistral'))\n",
        "df_mlc_mst = combined_df[msel]\n"
      ]
    },
    {
      "cell_type": "code",
      "execution_count": null,
      "metadata": {
        "id": "q6_QuIeNKdD5"
      },
      "outputs": [],
      "source": [
        "df_mlc_mst = df_mlc_mst.assign(word_cnt = lambda df: df['answer'].str.replace('\\n','').str.split().str.len())\n"
      ]
    },
    {
      "cell_type": "code",
      "execution_count": null,
      "metadata": {
        "id": "QZ8AXNQ3KdD6"
      },
      "outputs": [],
      "source": [
        "df_vllm_mst = df_vllm_mst.assign(word_cnt = lambda df: df['answer'].str.replace('\\n','').str.split().str.len())\n"
      ]
    },
    {
      "cell_type": "code",
      "execution_count": null,
      "metadata": {
        "id": "Tv1MAZ3HKdD6",
        "outputId": "2b40937c-0239-47af-e2f2-43f5a7e9a930"
      },
      "outputs": [
        {
          "data": {
            "text/plain": [
              "345.4802163957148"
            ]
          },
          "execution_count": 39,
          "metadata": {},
          "output_type": "execute_result"
        }
      ],
      "source": [
        "#time for generating 10-words\n",
        "(df_vllm_mst['time'].sum()/df_vllm_mst['word_cnt'].sum())*10*1000"
      ]
    },
    {
      "cell_type": "code",
      "execution_count": null,
      "metadata": {
        "id": "UzIML4Y5KdD7",
        "outputId": "cf17a590-89d0-43b3-d88a-e86e531b6920"
      },
      "outputs": [
        {
          "data": {
            "text/plain": [
              "156.51549055199862"
            ]
          },
          "execution_count": 40,
          "metadata": {},
          "output_type": "execute_result"
        }
      ],
      "source": [
        "(df_mlc_mst['time'].sum()/df_mlc_mst['word_cnt'].sum())*10*1000"
      ]
    },
    {
      "cell_type": "code",
      "execution_count": null,
      "metadata": {
        "id": "JQAxDlMAKdD7"
      },
      "outputs": [],
      "source": []
    },
    {
      "cell_type": "markdown",
      "source": [
        "## First Principles : On inference times."
      ],
      "metadata": {
        "id": "vLPaLUWnFnl9"
      }
    },
    {
      "cell_type": "markdown",
      "source": [
        "Compute: Time spent on your GPU computing actual floating point operations (FLOPS) (comment: `mostly fixed without changing the model`)\n",
        "\n",
        "Memory: Time spent transferring tensors within a GPU\n",
        "\n",
        "Overhead: Everything else\n",
        " - time spent in python interpreter\n",
        " - pytorch code\n",
        " - launching cuda.\n",
        " pytorch spends a lot of time figuring what to do (eg: `a+b` , look __add__,dispatch,determine attributes lk dtype,device,then lauch a kernel.\n",
        " )\n",
        "\n",
        " This doesn `scale with problem size`(fixed cost)\n",
        "\n",
        " How to know: double your batch size but your time inc by 10%.(GPU-Util in nvidia-smi)\n",
        "\n",
        "**Recipe for faster inference**\n",
        "\n",
        "Identify the bottleneck and then if :\n",
        "\n",
        " Overhead-Bound: operator fusion + some sort of compiling(fixing)\n",
        "\n",
        " Bandwidth bound: Operator fusion.\n",
        "\n",
        " Compute bound : more tensor cores(expensive).\n",
        "\n",
        "\n",
        "\n"
      ],
      "metadata": {
        "id": "11u304fXKhC2"
      }
    },
    {
      "cell_type": "markdown",
      "source": [
        "## How Good is my inference speed ?\n",
        "\n",
        "\n",
        "\n",
        "[A100](https://www.nvidia.com/content/dam/en-zz/Solutions/Data-Center/a100/pdf/nvidia-a100-datasheet-nvidia-us-2188504-web.pdf),with HBM(high-bandwidth-memory) 40-80GB.\n",
        "\n",
        "| BFLOAT16 | Memorybandwidth |\n",
        "|----------|----------|\n",
        "| 312TFLOPS | 1935 GB/s|\n",
        "\n",
        "\n",
        "[RTX 4090](https://www.notebookcheck.net/NVIDIA-GeForce-RTX-4090-GPU-Benchmarks-and-Specs.674574.0.html),with HBM - 24GB\n",
        "\n",
        "\n",
        "| BFLOAT16 | Memorybandwidth |\n",
        "|----------|----------|\n",
        "| 82.6TFLOPS | 1008 GB/s|\n",
        "\n",
        "\n",
        "\n",
        "**Rough Mental model for a transformer computations**\n",
        "\n",
        "Almost all the computations are mat-mul(activations,etc miniuscle). Also we are concerned about inference here.\n",
        "\n",
        "`setup`: Given a list of tokens generate next `t` tokens(autoregressive)\n",
        "\n",
        "\n",
        "- **Prefill**: Fetch the key-values(kv) for the given input tokens - KV cache.\n",
        "\n",
        "- **Sampling(autoregressive)**: We typically store `kv` cache in memory during sampling. (tradeoff memory for flops)\n",
        "\n",
        "**Core op/matmul**\n",
        "\n",
        "\n",
        "$$\n",
        "\\text{Attention}(Q, K, V) = \\text{softmax}\\left(\\frac{QK^T}{\\sqrt{d_k}}\\right)V\n",
        "$$\n",
        "\n",
        "Q,K,V are matrices with dimensions $n,d$\n",
        "\n",
        "For [mistral](https://arxiv.org/pdf/2310.06825.pdf),N=4096, d=128.\n",
        "\n",
        "\n",
        "mental model for Computation:\n",
        "\n",
        "1. LOAD Q,K from HBM ,compute $S = QK^T$,write to HBM.\n",
        "\n",
        "2. Read S from HBM,compute $P = softmax(s)$,write P\n",
        "\n",
        "3. LOAD P, V from HBM, compute O=PV,write O to HBM, return O.\n",
        "\n",
        "---\n",
        "S,P have dim $(4096,4096)$ and O has $(4096,128)$. For each line we can calculate memory-bandwidth and flops.\n",
        "\n",
        "Total_memory_movement(bytes) = $8(N^2)d + 8Nd$\n",
        "\n",
        "Total_flops = $4(N^2)d + 3N^2$\n",
        "\n",
        "ratio(compute/memory_movement) for mistral =\n",
        "\n",
        "62 ops/byte.\n",
        "\n",
        "\n",
        "\n",
        "**Inference bottleneck**\n",
        "\n",
        "A100(OPS TO MEMORY BADWIDTH)\n",
        "\n",
        "= 312TFLOPS/1935GB/S\n",
        "\n",
        "= 160 ops/byte\n",
        "\n",
        "\n",
        "RTX 4090 = 82 ops/byte.\n",
        "\n",
        "\n",
        "So most likely 4090 suffices,won't really improve inferece speed by movig to A100.\n",
        "\n",
        "Theoretical best:\n",
        "(since we are memory bound)\n",
        "\n",
        "on A100 => total # bytes moved(model-weights)/memory-bandwidth\n",
        "\n",
        "=> (2*7B)bytes/1935 = 7.2 millisecond/token.\n",
        "\n",
        "Assuming 2 tokens/word: 15millisecod/word. and on RTX4090=> 13millisecond/word.\n",
        "\n",
        "**I'm already likely near the absolute best speed of inference**\n",
        "\n",
        "But Is that it ? Well we can still improve compute utilization.\n",
        "\n",
        "\n",
        "1. We can batch multiple requests together => Use both the GPU flops and better memory bandwidth.\n",
        "\n",
        "For instance on a 24GB card, we can batch about 4 requests together(after taking into account of KV cache size)\n",
        "\n",
        "`Note`: For our case (chat) maybe batching ain't a good idea(idle time to fill up the batch-size) + complexity of **dynamic batching**.\n",
        "\n",
        "\n",
        "\n"
      ],
      "metadata": {
        "id": "XhDEJl-hWr5o"
      }
    },
    {
      "cell_type": "markdown",
      "source": [
        "What if we can improve the transformer-arthmetic itself, bag of tricks:\n",
        "\n",
        "\n",
        "1. Operator Fusion: Whenever possible use operator fusion=> perform an operation with minimal memory read/writes.\n",
        "\n",
        "  eg: [Flash-attention](https://huggingface.co/papers/2205.14135): Does `mlc` use this (likely not),n can i improve it further ?\n",
        "\n",
        "2. Playing with precision (bfloat16,fp16,int8,int4).\n",
        "\n",
        "   Different formats make tradeoff between range vs precision(bloat16[same range as float32 at less precision] vs float16)\n",
        "\n",
        "  `Note`\n",
        "\n",
        "   - Generally the gain in speed comes from decrease in memory movement(DRAM to SRAM),rather than flops.\n",
        "\n",
        "   - f32 -> bf16/f16 (almost no drop in accuracy),faster inference.\n",
        "\n",
        " Any lower(eg:int8) is lossy. But can we do it without loss in accuracy ? yes but can make inference slower [[refer](https://huggingface.co/blog/hf-bitsandbytes-integration)].\n",
        "\n",
        " `insight`: All we care is the relative scale of logits not the absolute values.\n",
        "\n",
        " `current sota`: When we use off-the-shelf quintized models(int4/int8): they split the activations into two groups - outliers(bf16) and normal(int8/4). There is an additional quantize/dequantize op happening => inc total flops => can sometimes result in **slower models**.\n",
        "\n",
        "\n",
        "\n",
        "3. MQA/GQA VS MHA => Weight sharing in attention blocks. eg: We can keep the set of keys same across the different heads. They do this already in Mistral.\n",
        "\n",
        "\n",
        "\n",
        "4. Continuous batching, KV cachinng etc: Typical useful when batching else i don't see much benefit.\n",
        "\n",
        "\n",
        "Wait, but what about Pruning and Knowledge Distillation for llms ? Well, pruning by itself doesn't speed up inference(flops are same,just that many are zeros) and typical speedups (when used with sparse/custom kernels) are only ~[1.2/1.3](https://arxiv.org/abs/2305.11627).\n",
        "\n",
        "\n",
        " ## Quick note on inference engines\n",
        "\n",
        " vLLM: Focus on throughput. refer this [talk](https://www.youtube.com/watch?v=5ZlavKF_98U&t=1479s) from the creators.\n",
        "\n",
        " - Optimized MQA/GQA kernels\n",
        " - efficient KV caching,beam search.\n",
        " - Continuous batching\n",
        " - tensor parallelism support\n",
        "\n",
        "\n",
        "\n",
        " mlc: Rabbit hole is deep(refer [this](https://mlc.ai/)) but their philosophy is convert your code to an\n",
        "  - intermediate representation => search through different possible mappings to cuda kernels and find the best one.\n",
        "\n",
        "\n",
        "\n",
        "Ultimately compiling llm/ml models removes the overhead, irrespective of the engine used.\n",
        "\n",
        "Verdict: **vLLM good if using with batching or large models, chat-like inference `mlc` is the fastest**\n",
        "\n"
      ],
      "metadata": {
        "id": "0r3DFQeRmEqg"
      }
    },
    {
      "cell_type": "code",
      "source": [],
      "metadata": {
        "id": "czpmqDrsKmDh"
      },
      "execution_count": null,
      "outputs": []
    }
  ],
  "metadata": {
    "colab": {
      "provenance": [],
      "include_colab_link": true
    },
    "kernelspec": {
      "display_name": "Python 3",
      "name": "python3"
    },
    "language_info": {
      "codemirror_mode": {
        "name": "ipython",
        "version": 3
      },
      "file_extension": ".py",
      "mimetype": "text/x-python",
      "name": "python",
      "nbconvert_exporter": "python",
      "pygments_lexer": "ipython3",
      "version": "3.9.9"
    }
  },
  "nbformat": 4,
  "nbformat_minor": 0
}