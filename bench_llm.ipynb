{
  "cells": [
    {
      "cell_type": "markdown",
      "metadata": {
        "colab_type": "text",
        "id": "view-in-github"
      },
      "source": [
        "<a href=\"https://colab.research.google.com/github/vin136/llm-infer/blob/main/bench_llm.ipynb\" target=\"_parent\"><img src=\"https://colab.research.google.com/assets/colab-badge.svg\" alt=\"Open In Colab\"/></a>"
      ]
    },
    {
      "cell_type": "code",
      "execution_count": 2,
      "metadata": {
        "id": "lBzpg6r81FT6"
      },
      "outputs": [],
      "source": [
        "import pandas as pd\n",
        "import numpy as np"
      ]
    },
    {
      "cell_type": "code",
      "execution_count": 3,
      "metadata": {
        "id": "eB4GK2Mf1Inr"
      },
      "outputs": [],
      "source": [
        "import os\n",
        "\n",
        "def get_csv_files_in_folders(base_folder=\".\"):\n",
        "    csv_files = []\n",
        "    # Walk through all directories and subdirectories\n",
        "    for root, dirs, files in os.walk(base_folder):\n",
        "        for file in files:\n",
        "            # Check if the file has a .csv extension\n",
        "            if file.lower().endswith(\".csv\"):\n",
        "                # Construct the full path to the CSV file\n",
        "                csv_files.append(os.path.join(root, file))\n",
        "\n",
        "    return csv_files"
      ]
    },
    {
      "cell_type": "code",
      "execution_count": 4,
      "metadata": {},
      "outputs": [],
      "source": [
        "files = get_csv_files_in_folders()"
      ]
    },
    {
      "cell_type": "code",
      "execution_count": 5,
      "metadata": {},
      "outputs": [
        {
          "data": {
            "text/plain": [
              "['./vllm/bench-vllm.csv',\n",
              " './mlc/bench-mlc-mistral.csv',\n",
              " './mlc/bench-mlc-llama2.csv']"
            ]
          },
          "execution_count": 5,
          "metadata": {},
          "output_type": "execute_result"
        }
      ],
      "source": [
        "files"
      ]
    },
    {
      "cell_type": "code",
      "execution_count": 6,
      "metadata": {},
      "outputs": [],
      "source": [
        "dfs = [pd.read_csv(csv_file) for csv_file in files]\n",
        "combined_df = pd.concat(dfs, ignore_index=True)"
      ]
    },
    {
      "cell_type": "code",
      "execution_count": 41,
      "metadata": {},
      "outputs": [
        {
          "data": {
            "text/html": [
              "<div>\n",
              "<style scoped>\n",
              "    .dataframe tbody tr th:only-of-type {\n",
              "        vertical-align: middle;\n",
              "    }\n",
              "\n",
              "    .dataframe tbody tr th {\n",
              "        vertical-align: top;\n",
              "    }\n",
              "\n",
              "    .dataframe thead th {\n",
              "        text-align: right;\n",
              "    }\n",
              "</style>\n",
              "<table border=\"1\" class=\"dataframe\">\n",
              "  <thead>\n",
              "    <tr style=\"text-align: right;\">\n",
              "      <th></th>\n",
              "      <th>inference_engine</th>\n",
              "      <th>model</th>\n",
              "      <th>time</th>\n",
              "    </tr>\n",
              "  </thead>\n",
              "  <tbody>\n",
              "    <tr>\n",
              "      <th>0</th>\n",
              "      <td>vllm</td>\n",
              "      <td>mistralai/Mistral-7B-Instruct-v0.2</td>\n",
              "      <td>3.494984</td>\n",
              "    </tr>\n",
              "    <tr>\n",
              "      <th>1</th>\n",
              "      <td>vllm</td>\n",
              "      <td>mistralai/Mistral-7B-Instruct-v0.2</td>\n",
              "      <td>3.494304</td>\n",
              "    </tr>\n",
              "    <tr>\n",
              "      <th>2</th>\n",
              "      <td>vllm</td>\n",
              "      <td>mistralai/Mistral-7B-Instruct-v0.2</td>\n",
              "      <td>3.499816</td>\n",
              "    </tr>\n",
              "    <tr>\n",
              "      <th>3</th>\n",
              "      <td>vllm</td>\n",
              "      <td>mistralai/Mistral-7B-Instruct-v0.2</td>\n",
              "      <td>3.495971</td>\n",
              "    </tr>\n",
              "    <tr>\n",
              "      <th>4</th>\n",
              "      <td>vllm</td>\n",
              "      <td>mistralai/Mistral-7B-Instruct-v0.2</td>\n",
              "      <td>3.496787</td>\n",
              "    </tr>\n",
              "    <tr>\n",
              "      <th>5</th>\n",
              "      <td>vllm</td>\n",
              "      <td>mistralai/Mistral-7B-Instruct-v0.2</td>\n",
              "      <td>0.315968</td>\n",
              "    </tr>\n",
              "    <tr>\n",
              "      <th>6</th>\n",
              "      <td>vllm</td>\n",
              "      <td>mistralai/Mistral-7B-Instruct-v0.2</td>\n",
              "      <td>2.306152</td>\n",
              "    </tr>\n",
              "    <tr>\n",
              "      <th>7</th>\n",
              "      <td>vllm</td>\n",
              "      <td>mistralai/Mistral-7B-Instruct-v0.2</td>\n",
              "      <td>2.663163</td>\n",
              "    </tr>\n",
              "    <tr>\n",
              "      <th>8</th>\n",
              "      <td>mlc</td>\n",
              "      <td>Mistral-7B-Instruct-v0.2</td>\n",
              "      <td>1.580195</td>\n",
              "    </tr>\n",
              "    <tr>\n",
              "      <th>9</th>\n",
              "      <td>mlc</td>\n",
              "      <td>Mistral-7B-Instruct-v0.2</td>\n",
              "      <td>1.480922</td>\n",
              "    </tr>\n",
              "    <tr>\n",
              "      <th>10</th>\n",
              "      <td>mlc</td>\n",
              "      <td>Mistral-7B-Instruct-v0.2</td>\n",
              "      <td>1.630431</td>\n",
              "    </tr>\n",
              "    <tr>\n",
              "      <th>11</th>\n",
              "      <td>mlc</td>\n",
              "      <td>Mistral-7B-Instruct-v0.2</td>\n",
              "      <td>0.865275</td>\n",
              "    </tr>\n",
              "    <tr>\n",
              "      <th>12</th>\n",
              "      <td>mlc</td>\n",
              "      <td>Mistral-7B-Instruct-v0.2</td>\n",
              "      <td>1.840082</td>\n",
              "    </tr>\n",
              "    <tr>\n",
              "      <th>13</th>\n",
              "      <td>mlc</td>\n",
              "      <td>Mistral-7B-Instruct-v0.2</td>\n",
              "      <td>0.389172</td>\n",
              "    </tr>\n",
              "    <tr>\n",
              "      <th>14</th>\n",
              "      <td>mlc</td>\n",
              "      <td>Mistral-7B-Instruct-v0.2</td>\n",
              "      <td>1.161004</td>\n",
              "    </tr>\n",
              "    <tr>\n",
              "      <th>15</th>\n",
              "      <td>mlc</td>\n",
              "      <td>Mistral-7B-Instruct-v0.2</td>\n",
              "      <td>2.024654</td>\n",
              "    </tr>\n",
              "    <tr>\n",
              "      <th>16</th>\n",
              "      <td>mlc</td>\n",
              "      <td>meta-llama/Llama-2-7b-chat-hf</td>\n",
              "      <td>1.433109</td>\n",
              "    </tr>\n",
              "    <tr>\n",
              "      <th>17</th>\n",
              "      <td>mlc</td>\n",
              "      <td>meta-llama/Llama-2-7b-chat-hf</td>\n",
              "      <td>1.332555</td>\n",
              "    </tr>\n",
              "    <tr>\n",
              "      <th>18</th>\n",
              "      <td>mlc</td>\n",
              "      <td>meta-llama/Llama-2-7b-chat-hf</td>\n",
              "      <td>1.469752</td>\n",
              "    </tr>\n",
              "    <tr>\n",
              "      <th>19</th>\n",
              "      <td>mlc</td>\n",
              "      <td>meta-llama/Llama-2-7b-chat-hf</td>\n",
              "      <td>1.419914</td>\n",
              "    </tr>\n",
              "    <tr>\n",
              "      <th>20</th>\n",
              "      <td>mlc</td>\n",
              "      <td>meta-llama/Llama-2-7b-chat-hf</td>\n",
              "      <td>1.712001</td>\n",
              "    </tr>\n",
              "    <tr>\n",
              "      <th>21</th>\n",
              "      <td>mlc</td>\n",
              "      <td>meta-llama/Llama-2-7b-chat-hf</td>\n",
              "      <td>0.156689</td>\n",
              "    </tr>\n",
              "    <tr>\n",
              "      <th>22</th>\n",
              "      <td>mlc</td>\n",
              "      <td>meta-llama/Llama-2-7b-chat-hf</td>\n",
              "      <td>0.896812</td>\n",
              "    </tr>\n",
              "    <tr>\n",
              "      <th>23</th>\n",
              "      <td>mlc</td>\n",
              "      <td>meta-llama/Llama-2-7b-chat-hf</td>\n",
              "      <td>1.432776</td>\n",
              "    </tr>\n",
              "  </tbody>\n",
              "</table>\n",
              "</div>"
            ],
            "text/plain": [
              "   inference_engine                               model      time\n",
              "0              vllm  mistralai/Mistral-7B-Instruct-v0.2  3.494984\n",
              "1              vllm  mistralai/Mistral-7B-Instruct-v0.2  3.494304\n",
              "2              vllm  mistralai/Mistral-7B-Instruct-v0.2  3.499816\n",
              "3              vllm  mistralai/Mistral-7B-Instruct-v0.2  3.495971\n",
              "4              vllm  mistralai/Mistral-7B-Instruct-v0.2  3.496787\n",
              "5              vllm  mistralai/Mistral-7B-Instruct-v0.2  0.315968\n",
              "6              vllm  mistralai/Mistral-7B-Instruct-v0.2  2.306152\n",
              "7              vllm  mistralai/Mistral-7B-Instruct-v0.2  2.663163\n",
              "8               mlc            Mistral-7B-Instruct-v0.2  1.580195\n",
              "9               mlc            Mistral-7B-Instruct-v0.2  1.480922\n",
              "10              mlc            Mistral-7B-Instruct-v0.2  1.630431\n",
              "11              mlc            Mistral-7B-Instruct-v0.2  0.865275\n",
              "12              mlc            Mistral-7B-Instruct-v0.2  1.840082\n",
              "13              mlc            Mistral-7B-Instruct-v0.2  0.389172\n",
              "14              mlc            Mistral-7B-Instruct-v0.2  1.161004\n",
              "15              mlc            Mistral-7B-Instruct-v0.2  2.024654\n",
              "16              mlc       meta-llama/Llama-2-7b-chat-hf  1.433109\n",
              "17              mlc       meta-llama/Llama-2-7b-chat-hf  1.332555\n",
              "18              mlc       meta-llama/Llama-2-7b-chat-hf  1.469752\n",
              "19              mlc       meta-llama/Llama-2-7b-chat-hf  1.419914\n",
              "20              mlc       meta-llama/Llama-2-7b-chat-hf  1.712001\n",
              "21              mlc       meta-llama/Llama-2-7b-chat-hf  0.156689\n",
              "22              mlc       meta-llama/Llama-2-7b-chat-hf  0.896812\n",
              "23              mlc       meta-llama/Llama-2-7b-chat-hf  1.432776"
            ]
          },
          "execution_count": 41,
          "metadata": {},
          "output_type": "execute_result"
        }
      ],
      "source": [
        "#let's compare\n",
        "combined_df[['inference_engine','model','time']]"
      ]
    },
    {
      "cell_type": "code",
      "execution_count": 18,
      "metadata": {},
      "outputs": [],
      "source": [
        "#let's compare vllm vs mlc for mistral\n",
        "vsel = (combined_df['inference_engine'] == 'vllm') & (combined_df['model'].str.startswith('mistral'))\n",
        "df_vllm_mst = combined_df[vsel]\n"
      ]
    },
    {
      "cell_type": "code",
      "execution_count": 17,
      "metadata": {},
      "outputs": [],
      "source": [
        "msel = (combined_df['inference_engine'] == 'mlc') & (combined_df['model'].str.startswith('Mistral'))\n",
        "df_mlc_mst = combined_df[msel]\n"
      ]
    },
    {
      "cell_type": "code",
      "execution_count": 35,
      "metadata": {},
      "outputs": [],
      "source": [
        "df_mlc_mst = df_mlc_mst.assign(word_cnt = lambda df: df['answer'].str.replace('\\n','').str.split().str.len())\n"
      ]
    },
    {
      "cell_type": "code",
      "execution_count": 34,
      "metadata": {},
      "outputs": [],
      "source": [
        "df_vllm_mst = df_vllm_mst.assign(word_cnt = lambda df: df['answer'].str.replace('\\n','').str.split().str.len())\n"
      ]
    },
    {
      "cell_type": "code",
      "execution_count": 39,
      "metadata": {},
      "outputs": [
        {
          "data": {
            "text/plain": [
              "345.4802163957148"
            ]
          },
          "execution_count": 39,
          "metadata": {},
          "output_type": "execute_result"
        }
      ],
      "source": [
        "#time for generating 10-words\n",
        "(df_vllm_mst['time'].sum()/df_vllm_mst['word_cnt'].sum())*10*1000"
      ]
    },
    {
      "cell_type": "code",
      "execution_count": 40,
      "metadata": {},
      "outputs": [
        {
          "data": {
            "text/plain": [
              "156.51549055199862"
            ]
          },
          "execution_count": 40,
          "metadata": {},
          "output_type": "execute_result"
        }
      ],
      "source": [
        "(df_mlc_mst['time'].sum()/df_mlc_mst['word_cnt'].sum())*10*1000"
      ]
    },
    {
      "cell_type": "code",
      "execution_count": null,
      "metadata": {},
      "outputs": [],
      "source": []
    }
  ],
  "metadata": {
    "colab": {
      "authorship_tag": "ABX9TyMeetI/bH35q+JA+JM00aCr",
      "include_colab_link": true,
      "provenance": []
    },
    "kernelspec": {
      "display_name": "Python 3",
      "name": "python3"
    },
    "language_info": {
      "codemirror_mode": {
        "name": "ipython",
        "version": 3
      },
      "file_extension": ".py",
      "mimetype": "text/x-python",
      "name": "python",
      "nbconvert_exporter": "python",
      "pygments_lexer": "ipython3",
      "version": "3.9.9"
    }
  },
  "nbformat": 4,
  "nbformat_minor": 0
}
